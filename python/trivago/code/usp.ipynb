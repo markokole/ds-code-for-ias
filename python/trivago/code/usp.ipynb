{
 "cells": [
  {
   "cell_type": "code",
   "execution_count": 28,
   "metadata": {},
   "outputs": [],
   "source": [
    "athena_db = 'trivago'\n",
    "s3_bucket = 'athena-trivago-auto'\n",
    "date = '2019-08-01'"
   ]
  },
  {
   "cell_type": "code",
   "execution_count": 14,
   "metadata": {},
   "outputs": [],
   "source": [
    "import awswrangler\n",
    "session = awswrangler.Session()"
   ]
  },
  {
   "cell_type": "code",
   "execution_count": 15,
   "metadata": {},
   "outputs": [],
   "source": [
    "import pandas"
   ]
  },
  {
   "cell_type": "markdown",
   "metadata": {},
   "source": [
    "# Get USPs per accommodation and add destination_id"
   ]
  },
  {
   "cell_type": "code",
   "execution_count": 16,
   "metadata": {},
   "outputs": [],
   "source": [
    "def get_destination_ids(accommodation_ids):\n",
    "    with open('query.sql') as f:\n",
    "        df = session.pandas.read_sql_athena(\n",
    "            sql=f.read().format(date=repr(date)),\n",
    "            database=athena_db\n",
    "        )\n",
    "        \n",
    "    return df[df.accommodation_id.isin(accommodation_ids)]"
   ]
  },
  {
   "cell_type": "code",
   "execution_count": 17,
   "metadata": {},
   "outputs": [],
   "source": [
    "def get_filtered_usps():\n",
    "    df = session.pandas.read_sql_athena(\n",
    "        sql=\"SELECT * FROM unique_selling_points WHERE date = {date}\".format(date=repr(date)),\n",
    "        database=athena_db\n",
    "    )\n",
    "    \n",
    "    return df"
   ]
  },
  {
   "cell_type": "code",
   "execution_count": 25,
   "metadata": {},
   "outputs": [],
   "source": [
    "usp_df = get_filtered_usps()\n",
    "destination_ids = get_destination_ids(usp_df[\"accommodation_id\"].values)\n",
    "usp_df = usp_df.merge(destination_ids, how=\"left\", on=\"accommodation_id\")"
   ]
  },
  {
   "cell_type": "code",
   "execution_count": 26,
   "metadata": {
    "scrolled": true
   },
   "outputs": [
    {
     "data": {
      "text/html": [
       "<div>\n",
       "<style scoped>\n",
       "    .dataframe tbody tr th:only-of-type {\n",
       "        vertical-align: middle;\n",
       "    }\n",
       "\n",
       "    .dataframe tbody tr th {\n",
       "        vertical-align: top;\n",
       "    }\n",
       "\n",
       "    .dataframe thead th {\n",
       "        text-align: right;\n",
       "    }\n",
       "</style>\n",
       "<table border=\"1\" class=\"dataframe\">\n",
       "  <thead>\n",
       "    <tr style=\"text-align: right;\">\n",
       "      <th></th>\n",
       "      <th>accommodation_id</th>\n",
       "      <th>usp</th>\n",
       "      <th>accommodation_ns</th>\n",
       "      <th>date</th>\n",
       "      <th>destination_id</th>\n",
       "    </tr>\n",
       "  </thead>\n",
       "  <tbody>\n",
       "    <tr>\n",
       "      <td>357735</td>\n",
       "      <td>457736</td>\n",
       "      <td>Exquisite Experience</td>\n",
       "      <td>100</td>\n",
       "      <td>2019-08-01</td>\n",
       "      <td>NaN</td>\n",
       "    </tr>\n",
       "    <tr>\n",
       "      <td>402216</td>\n",
       "      <td>502217</td>\n",
       "      <td>Downtown</td>\n",
       "      <td>100</td>\n",
       "      <td>2019-08-01</td>\n",
       "      <td>NaN</td>\n",
       "    </tr>\n",
       "    <tr>\n",
       "      <td>11943</td>\n",
       "      <td>22088</td>\n",
       "      <td>hot_tub</td>\n",
       "      <td>100</td>\n",
       "      <td>2019-08-01</td>\n",
       "      <td>15246</td>\n",
       "    </tr>\n",
       "    <tr>\n",
       "      <td>106474</td>\n",
       "      <td>206475</td>\n",
       "      <td>Luxury hotel</td>\n",
       "      <td>100</td>\n",
       "      <td>2019-08-01</td>\n",
       "      <td>NaN</td>\n",
       "    </tr>\n",
       "    <tr>\n",
       "      <td>136947</td>\n",
       "      <td>10171</td>\n",
       "      <td>Business hotel</td>\n",
       "      <td>100</td>\n",
       "      <td>2019-08-01</td>\n",
       "      <td>10171</td>\n",
       "    </tr>\n",
       "  </tbody>\n",
       "</table>\n",
       "</div>"
      ],
      "text/plain": [
       "        accommodation_id                   usp  accommodation_ns        date  \\\n",
       "357735            457736  Exquisite Experience               100  2019-08-01   \n",
       "402216            502217              Downtown               100  2019-08-01   \n",
       "11943              22088               hot_tub               100  2019-08-01   \n",
       "106474            206475          Luxury hotel               100  2019-08-01   \n",
       "136947             10171        Business hotel               100  2019-08-01   \n",
       "\n",
       "        destination_id  \n",
       "357735             NaN  \n",
       "402216             NaN  \n",
       "11943            15246  \n",
       "106474             NaN  \n",
       "136947           10171  "
      ]
     },
     "execution_count": 26,
     "metadata": {},
     "output_type": "execute_result"
    }
   ],
   "source": [
    "usp_df.sample(5)"
   ]
  },
  {
   "cell_type": "code",
   "execution_count": 27,
   "metadata": {},
   "outputs": [
    {
     "data": {
      "text/plain": [
       "usp\n",
       "Business hotel        2300\n",
       "sea_view              2275\n",
       "Sleeping comfort      2270\n",
       "Pet friendly hotel    2241\n",
       "hot_tub               1869\n",
       "                      ... \n",
       "sunday_brunch           10\n",
       "live_music               9\n",
       "skyline_view             8\n",
       "japanese_style           7\n",
       "blackout_curtains        3\n",
       "Name: destination_id, Length: 63, dtype: int64"
      ]
     },
     "execution_count": 27,
     "metadata": {},
     "output_type": "execute_result"
    }
   ],
   "source": [
    "usp_df.groupby(\"usp\")['destination_id'].nunique().sort_values(ascending=False)"
   ]
  },
  {
   "cell_type": "code",
   "execution_count": 29,
   "metadata": {},
   "outputs": [
    {
     "data": {
      "text/plain": [
       "['s3://athena-trivago-auto/usp/output/date=2019-08-01/f3844dc1f0974712974031c6179763be.parquet',\n",
       " 's3://athena-trivago-auto/usp/output/date=2019-08-01/72ea1c1490f64ee7a0e2304be62decae.parquet']"
      ]
     },
     "execution_count": 29,
     "metadata": {},
     "output_type": "execute_result"
    }
   ],
   "source": [
    "session.pandas.to_parquet(\n",
    "    dataframe=usp_df,\n",
    "    path=f\"s3://{s3_bucket}/usp/output\",\n",
    "    partition_cols=[\"date\"],\n",
    ")"
   ]
  },
  {
   "cell_type": "code",
   "execution_count": null,
   "metadata": {},
   "outputs": [],
   "source": []
  }
 ],
 "metadata": {
  "kernelspec": {
   "display_name": "Python 3",
   "language": "python",
   "name": "python3"
  },
  "language_info": {
   "codemirror_mode": {
    "name": "ipython",
    "version": 3
   },
   "file_extension": ".py",
   "mimetype": "text/x-python",
   "name": "python",
   "nbconvert_exporter": "python",
   "pygments_lexer": "ipython3",
   "version": "3.7.3"
  },
  "toc": {
   "nav_menu": {},
   "number_sections": true,
   "sideBar": true,
   "skip_h1_title": false,
   "toc_cell": false,
   "toc_position": {},
   "toc_section_display": "block",
   "toc_window_display": false
  }
 },
 "nbformat": 4,
 "nbformat_minor": 2
}
